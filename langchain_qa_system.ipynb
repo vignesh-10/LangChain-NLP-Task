
{
 "cells": [
  {
   "cell_type": "markdown",
   "metadata": {},
   "source": [
    "# LangChain Question Answering System using GPT-2\n",
    "This notebook demonstrates how to set up and build a question-answering system using LangChain and an open-source LLM (GPT-2 in this case)."
   ]
  },
  {
   "cell_type": "code",
   "execution_count": null,
   "metadata": {},
   "outputs": [],
   "source": [
    "# Task 1: Setting up the Environment\n",
    "# Install necessary packages\n",
    "!pip install langchain transformers openai torch datasets"
   ]
  },
  {
   "cell_type": "code",
   "execution_count": null,
   "metadata": {},
   "outputs": [],
   "source": [
    "# Task 2: LLM Integration with LangChain\n",
    "# Import necessary libraries and set up the GPT-2 model\n",
    "from transformers import GPT2LMHeadModel, GPT2Tokenizer\n",
    "from langchain.chains import RetrievalQA\n",
    "from langchain.prompts import PromptTemplate\n",
    "\n",
    "# Load GPT-2 model and tokenizer\n",
    "model = GPT2LMHeadModel.from_pretrained('gpt2')\n",
    "tokenizer = GPT2Tokenizer.from_pretrained('gpt2')"
   ]
  },
  {
   "cell_type": "code",
   "execution_count": null,
   "metadata": {},
   "outputs": [],
   "source": [
    "# Define context and custom prompt\n",
    "context = '''Artificial Intelligence (AI) is the simulation of human intelligence in machines. These machines are programmed to mimic human cognitive functions such as learning and problem-solving. AI is a vast field that includes various subfields like machine learning, natural language processing, and robotics.'''.strip()\n",
    "\n",
    "def generate_answer(question, context):\n",
    "    prompt_template = PromptTemplate(\n",
    "        template='Context: {context}\n\nQuestion: {question}\nAnswer concisely:',\n",
    "        input_variables=['context', 'question']\n",
    "    )\n",
    "    prompt = prompt_template.format(context=context, question=question)\n",
    "    inputs = tokenizer(prompt, return_tensors='pt', max_length=512, truncation=True)\n",
    "    outputs = model.generate(**inputs, max_new_tokens=100)\n",
    "    answer = tokenizer.decode(outputs[0], skip_special_tokens=True)\n",
    "    return answer.split('Answer:')[-1].strip()"
   ]
  },
  {
   "cell_type": "code",
   "execution_count": null,
   "metadata": {},
   "outputs": [],
   "source": [
    "# Test the question-answer system\n",
    "question = 'What is Artificial Intelligence?'\n",
    "answer = generate_answer(question, context)\n",
    "print(f'Q: {question}\nA: {answer}')"
   ]
  }
 ],
 "metadata": {
  "kernelspec": {
   "display_name": "Python 3",
   "language": "python",
   "name": "python3"
  },
  "language_info": {
   "codemirror_mode": {
    "name": "ipython",
    "version": 3
   },
   "file_extension": ".py",
   "mimetype": "text/x-python",
   "name": "python",
   "nbconvert_exporter": "python",
   "pygments_lexer": "ipython3",
   "version": "3.12.0"
  }
 },
 "nbformat": 4,
 "nbformat_minor": 4
}
